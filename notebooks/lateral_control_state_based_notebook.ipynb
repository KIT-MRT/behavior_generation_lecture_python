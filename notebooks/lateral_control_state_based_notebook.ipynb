{
 "cells": [
  {
   "cell_type": "code",
   "execution_count": null,
   "metadata": {},
   "outputs": [],
   "source": [
    "import numpy as np\n",
    "import matplotlib.pyplot as plt\n",
    "\n",
    "import behavior_generation_lecture_python.lateral_control_state_based.lateral_control_state_based as cl\n",
    "import behavior_generation_lecture_python.utils.generate_reference_curve as ref\n",
    "from behavior_generation_lecture_python.utils.plot_vehicle import plot_vehicle as pv\n",
    "from behavior_generation_lecture_python.utils.vizard import vizard as vz\n",
    "\n",
    "%matplotlib inline\n",
    "# use '%matplotlib notebook' to interact with the vizard"
   ]
  },
  {
   "cell_type": "code",
   "execution_count": null,
   "metadata": {},
   "outputs": [],
   "source": [
    "def main():\n",
    "    print(\"Running simulation...\")\n",
    "    radius = 20\n",
    "    vars_0 = [0.1, -radius, 0.0]\n",
    "    curve = ref.generate_reference_curve(\n",
    "        [0, radius, 0, -radius, 0], [-radius, 0, radius, 0, radius], 1.0\n",
    "    )\n",
    "    ti = np.arange(0, 100, 0.1)\n",
    "    model = cl.LateralControlStateBased(vars_0, curve)\n",
    "    sol = model.simulate(ti, v=1)\n",
    "    x = sol[:, 0]\n",
    "    y = sol[:, 1]\n",
    "    psi = sol[:, 2]\n",
    "    delta = sol[:, 4]\n",
    "\n",
    "    fig, ax = plt.subplots()\n",
    "\n",
    "    plt.plot(curve[\"x\"], curve[\"y\"], \"r-\", linewidth=0.5)\n",
    "    plt.plot(x, y, \"b-\", linewidth=0.5)\n",
    "    plt.axis(\"equal\")\n",
    "\n",
    "    (point1,) = ax.plot([], [], marker=\"o\", color=\"blue\", ms=5)\n",
    "\n",
    "    def update(i, *fargs):\n",
    "        [l.remove() for l in reversed(ax.lines[1:])]\n",
    "        ax.plot(x[:i], y[:i], \"b-\", linewidth=0.5)\n",
    "        point1.set_data(x[i], y[i])\n",
    "        pv.plot_vehicle(ax, x[i], y[i], psi[i], delta[i])\n",
    "        for farg in fargs:\n",
    "            print(farg)\n",
    "\n",
    "    viz = vz.Vizard(fig, update, ti)\n",
    "    plt.show()"
   ]
  },
  {
   "cell_type": "code",
   "execution_count": null,
   "metadata": {},
   "outputs": [],
   "source": [
    "main()"
   ]
  }
 ],
 "metadata": {
  "interpreter": {
   "hash": "ea80bdc8d9eecdfb0ad4850befec70bcf98ec6f56b32ef8090165e65e0e9c093"
  },
  "kernelspec": {
   "display_name": "Python 3",
   "language": "python",
   "name": "python3"
  },
  "language_info": {
   "codemirror_mode": {
    "name": "ipython",
    "version": 3
   },
   "file_extension": ".py",
   "mimetype": "text/x-python",
   "name": "python",
   "nbconvert_exporter": "python",
   "pygments_lexer": "ipython3",
   "version": "3.8.12"
  }
 },
 "nbformat": 4,
 "nbformat_minor": 5
}
