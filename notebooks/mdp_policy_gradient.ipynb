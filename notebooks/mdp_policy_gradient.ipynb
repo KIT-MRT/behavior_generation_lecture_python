{
 "cells": [
  {
   "cell_type": "code",
   "execution_count": null,
   "metadata": {},
   "outputs": [],
   "source": [
    "import os\n",
    "\n",
    "from behavior_generation_lecture_python.mdp.policy import CategorialPolicy\n",
    "from behavior_generation_lecture_python.utils.grid_plotting import (\n",
    "    make_plot_policy_step_function,\n",
    ")\n",
    "from behavior_generation_lecture_python.mdp.mdp import (\n",
    "    GridMDP,\n",
    "    policy_gradient,\n",
    "    derive_deterministic_policy,\n",
    "    GRID_MDP_DICT,\n",
    "    HIGHWAY_MDP_DICT,\n",
    "    LC_RIGHT_ACTION,\n",
    "    STAY_IN_LANE_ACTION,\n",
    ")\n",
    "\n",
    "HIGHWAY_MDP_DICT[\"restrict_actions_to_available_states\"] = False"
   ]
  },
  {
   "cell_type": "markdown",
   "metadata": {},
   "source": [
    "## TOY EXAMPLE"
   ]
  },
  {
   "cell_type": "code",
   "execution_count": null,
   "metadata": {},
   "outputs": [],
   "source": [
    "grid_mdp = GridMDP(**GRID_MDP_DICT)"
   ]
  },
  {
   "cell_type": "code",
   "execution_count": null,
   "metadata": {},
   "outputs": [],
   "source": [
    "policy = CategorialPolicy(\n",
    "    sizes=[len(grid_mdp.initial_state), 32, len(grid_mdp.actions)],\n",
    "    actions=list(grid_mdp.actions),\n",
    ")"
   ]
  },
  {
   "cell_type": "code",
   "execution_count": null,
   "metadata": {},
   "outputs": [],
   "source": [
    "model_checkpoints = policy_gradient(\n",
    "    mdp=grid_mdp,\n",
    "    policy=policy,\n",
    "    iterations=100,\n",
    "    return_history=True,\n",
    ")"
   ]
  },
  {
   "cell_type": "code",
   "execution_count": null,
   "metadata": {},
   "outputs": [],
   "source": [
    "policy_array = [\n",
    "    derive_deterministic_policy(mdp=grid_mdp, policy=model)\n",
    "    for model in model_checkpoints\n",
    "]"
   ]
  },
  {
   "cell_type": "code",
   "execution_count": null,
   "metadata": {},
   "outputs": [],
   "source": [
    "plot_policy_step_grid_map = make_plot_policy_step_function(\n",
    "    columns=4, rows=3, policy_over_time=policy_array\n",
    ")"
   ]
  },
  {
   "cell_type": "code",
   "execution_count": null,
   "metadata": {},
   "outputs": [],
   "source": [
    "interactive_widgets = not os.getenv(\"CI\") == \"true\" # non-interative in CI\n",
    "if interactive_widgets:\n",
    "    import ipywidgets\n",
    "    from IPython.display import display\n",
    "\n",
    "    iteration_slider = ipywidgets.IntSlider(\n",
    "        min=0, max=len(model_checkpoints) - 1, step=1, value=0\n",
    "    )\n",
    "    w = ipywidgets.interactive(plot_policy_step_grid_map, iteration=iteration_slider)\n",
    "    display(w)\n",
    "else:\n",
    "    plot_policy_step_grid_map(100)"
   ]
  },
  {
   "cell_type": "markdown",
   "metadata": {},
   "source": [
    "## HIGHWAY EXAMPLE"
   ]
  },
  {
   "cell_type": "code",
   "execution_count": null,
   "metadata": {},
   "outputs": [],
   "source": [
    "if False:\n",
    "    # we will change this to true later on, to see the effect\n",
    "    HIGHWAY_MDP_DICT[\"transition_probabilities_per_action\"][LC_RIGHT_ACTION] = [\n",
    "        (0.4, LC_RIGHT_ACTION),\n",
    "        (0.6, STAY_IN_LANE_ACTION),\n",
    "    ]"
   ]
  },
  {
   "cell_type": "code",
   "execution_count": null,
   "metadata": {},
   "outputs": [],
   "source": [
    "highway_mdp = GridMDP(**HIGHWAY_MDP_DICT)"
   ]
  },
  {
   "cell_type": "code",
   "execution_count": null,
   "metadata": {},
   "outputs": [],
   "source": [
    "policy = CategorialPolicy(\n",
    "    sizes=[len(highway_mdp.initial_state), 32, len(highway_mdp.actions)],\n",
    "    actions=list(highway_mdp.actions),\n",
    ")"
   ]
  },
  {
   "cell_type": "code",
   "execution_count": null,
   "metadata": {},
   "outputs": [],
   "source": [
    "model_checkpoints = policy_gradient(\n",
    "    mdp=highway_mdp,\n",
    "    policy=policy,\n",
    "    iterations=200,\n",
    "    return_history=True,\n",
    ")"
   ]
  },
  {
   "cell_type": "code",
   "execution_count": null,
   "metadata": {},
   "outputs": [],
   "source": [
    "policy_array = [\n",
    "    derive_deterministic_policy(mdp=highway_mdp, policy=model)\n",
    "    for model in model_checkpoints\n",
    "]"
   ]
  },
  {
   "cell_type": "code",
   "execution_count": null,
   "metadata": {},
   "outputs": [],
   "source": [
    "plot_policy_step_grid_map = make_plot_policy_step_function(\n",
    "    columns=10, rows=4, policy_over_time=policy_array\n",
    ")"
   ]
  },
  {
   "cell_type": "code",
   "execution_count": null,
   "metadata": {},
   "outputs": [],
   "source": [
    "if interactive_widgets:\n",
    "    import ipywidgets\n",
    "    from IPython.display import display\n",
    "\n",
    "    iteration_slider = ipywidgets.IntSlider(\n",
    "        min=0, max=len(model_checkpoints) - 1, step=1, value=0\n",
    "    )\n",
    "    w = ipywidgets.interactive(plot_policy_step_grid_map, iteration=iteration_slider)\n",
    "    display(w)\n",
    "else:\n",
    "    plot_policy_step_grid_map(200)"
   ]
  }
 ],
 "metadata": {
  "kernelspec": {
   "display_name": "Python 3 (ipykernel)",
   "language": "python",
   "name": "python3"
  },
  "language_info": {
   "codemirror_mode": {
    "name": "ipython",
    "version": 3
   },
   "file_extension": ".py",
   "mimetype": "text/x-python",
   "name": "python",
   "nbconvert_exporter": "python",
   "pygments_lexer": "ipython3",
   "version": "3.9.6"
  },
  "vscode": {
   "interpreter": {
    "hash": "c55583abd569aed2a1a6538892df4383b19c955ebf68dd4bc0814f5cb22bab0c"
   }
  }
 },
 "nbformat": 4,
 "nbformat_minor": 4
}
