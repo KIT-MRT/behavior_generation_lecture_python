{
 "cells": [
  {
   "cell_type": "code",
   "execution_count": null,
   "id": "b0c1f089",
   "metadata": {},
   "outputs": [],
   "source": [
    "import numpy as np\n",
    "from behavior_generation_lecture_python.graph_search.a_star import Node, Graph\n",
    "\n",
    "%matplotlib inline"
   ]
  },
  {
   "cell_type": "code",
   "execution_count": null,
   "id": "d2311a94",
   "metadata": {},
   "outputs": [],
   "source": [
    "def main():\n",
    "    nodes_list = [\n",
    "        [\"HH\", 170, 620, [\"H\", \"B\"]],\n",
    "        [\"H\", 150, 520, [\"B\", \"L\", \"F\", \"HH\"]],\n",
    "        [\"B\", 330, 540, [\"HH\", \"H\", \"L\"]],\n",
    "        [\"L\", 290, 420, [\"B\", \"H\", \"S\", \"M\"]],\n",
    "        [\"F\", 60, 270, [\"H\", \"S\"]],\n",
    "        [\"S\", 80, 120, [\"F\", \"L\", \"M\"]],\n",
    "        [\"M\", 220, 20, [\"S\", \"L\"]],\n",
    "    ]\n",
    "    nodes_dict = {}\n",
    "    for entry in nodes_list:\n",
    "        nodes_dict[entry[0]] = Node(\n",
    "            name=entry[0],\n",
    "            position=np.array([entry[1], entry[2]]),\n",
    "            connected_to=entry[3],\n",
    "        )\n",
    "\n",
    "    graph = Graph(nodes_dict=nodes_dict)\n",
    "    graph.draw_graph()\n",
    "\n",
    "    graph.a_star(start=\"M\", end=\"HH\")\n",
    "\n",
    "    graph.draw_result()"
   ]
  },
  {
   "cell_type": "code",
   "execution_count": null,
   "id": "ef38e2e0",
   "metadata": {},
   "outputs": [],
   "source": [
    "main()"
   ]
  }
 ],
 "metadata": {
  "kernelspec": {
   "display_name": "behavior_generation_lecture",
   "language": "python",
   "name": "behavior_generation_lecture"
  },
  "language_info": {
   "codemirror_mode": {
    "name": "ipython",
    "version": 3
   },
   "file_extension": ".py",
   "mimetype": "text/x-python",
   "name": "python",
   "nbconvert_exporter": "python",
   "pygments_lexer": "ipython3",
   "version": "3.9.6"
  }
 },
 "nbformat": 4,
 "nbformat_minor": 5
}
