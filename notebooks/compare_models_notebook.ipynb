{
 "cells": [
  {
   "cell_type": "code",
   "execution_count": null,
   "metadata": {},
   "outputs": [],
   "source": [
    "import numpy as np\n",
    "import matplotlib.pyplot as plt\n",
    "\n",
    "import vehicle_models.model_comparison as cm\n",
    "from utils.plot_vehicle import plot_vehicle as pv\n",
    "from utils.vizard import vizard as vz\n",
    "\n",
    "%matplotlib inline\n",
    "# use '%matplotlib notebook' to interact with the vizard"
   ]
  },
  {
   "cell_type": "code",
   "execution_count": null,
   "metadata": {},
   "outputs": [],
   "source": [
    "def main():\n",
    "    print(\"Running simulation...\")\n",
    "\n",
    "    def delta(t):\n",
    "        stwa = 0\n",
    "        tp = [0.0, 0.6, 0.9, 1.2, 1.5, 1.8, 2.1]\n",
    "        dp = [0.0, 0.0, 1.0, 1.0, -1.0, -1.0, 0.0]\n",
    "        stwa = np.interp(t, tp, dp)\n",
    "\n",
    "        stwa_ampl = 20 * np.pi / 180\n",
    "        stwa_ratio = 18\n",
    "\n",
    "        stwa_max = 520 * np.pi / 180\n",
    "        stwa = max(min(stwa_max, stwa), -stwa_max)\n",
    "\n",
    "        delta = stwa_ampl * stwa / stwa_ratio\n",
    "\n",
    "        return delta\n",
    "\n",
    "    vars_0 = [0.0, 0.0, 0.0, 0.0, 0.0]\n",
    "    ti = np.arange(0, 5, 0.05)\n",
    "    model = cm.CompareModels(vars_0, delta)\n",
    "    sol = model.simulate(ti, v=30)\n",
    "    x = sol[0][:, 0]\n",
    "    y = sol[0][:, 1]\n",
    "    psi = sol[0][:, 2]\n",
    "    beta = sol[0][:, 3]\n",
    "    r = sol[0][:, 4]\n",
    "    beta_lin = sol[1][:, 0]\n",
    "    r_lin = sol[1][:, 1]\n",
    "\n",
    "    delta_vals = [delta(t) for t in ti]\n",
    "\n",
    "    fig, (ax1, ax2) = plt.subplots(2)\n",
    "\n",
    "    ax1.axis(\"equal\")\n",
    "\n",
    "    ax2.plot(ti, delta_vals, \"k-\")\n",
    "    ax2.plot(ti, beta, \"r-\")\n",
    "    ax2.plot(ti, r, \"g-\")\n",
    "    ax2.plot(ti, beta_lin, \"m-\")\n",
    "    ax2.plot(ti, r_lin, \"b-\")\n",
    "\n",
    "    ax2.legend([\"delta\", \"beta\", \"r\", \"beta_lin\", \"r_lin\"])\n",
    "\n",
    "    (point1,) = ax1.plot([], [], marker=\"o\", color=\"blue\", ms=10)\n",
    "    (point_delta,) = ax2.plot([], [], marker=\"o\", color=\"black\", ms=3)\n",
    "    (point_beta,) = ax2.plot([], [], marker=\"o\", color=\"red\", ms=3)\n",
    "    (point_r,) = ax2.plot([], [], marker=\"o\", color=\"green\", ms=3)\n",
    "    (point_beta_lin,) = ax2.plot([], [], marker=\"o\", color=\"magenta\", ms=3)\n",
    "    (point_r_lin,) = ax2.plot([], [], marker=\"o\", color=\"blue\", ms=3)\n",
    "\n",
    "    def update(i, *fargs):\n",
    "        [l.remove() for l in reversed(ax1.lines)]\n",
    "        ax1.plot(x[: i + 1], y[: i + 1], \"b-\", linewidth=0.5)\n",
    "        point1.set_data(x[i + 1], y[i + 1])\n",
    "        pv.plot_vehicle(ax1, x[i], y[i], psi[i], delta_vals[i])\n",
    "\n",
    "        point_delta.set_data(ti[i + 1], delta_vals[i + 1])\n",
    "        point_beta.set_data(ti[i + 1], beta[i + 1])\n",
    "        point_r.set_data(ti[i + 1], r[i + 1])\n",
    "        point_beta_lin.set_data(ti[i + 1], beta_lin[i + 1])\n",
    "        point_r_lin.set_data(ti[i + 1], r_lin[i + 1])\n",
    "        for farg in fargs:\n",
    "            print(farg)\n",
    "\n",
    "    viz = vz.Vizard(fig, update, ti)\n",
    "    plt.show()"
   ]
  },
  {
   "cell_type": "code",
   "execution_count": null,
   "metadata": {},
   "outputs": [],
   "source": [
    "main()"
   ]
  }
 ],
 "metadata": {
  "kernelspec": {
   "display_name": "Python 3",
   "language": "python",
   "name": "python3"
  },
  "language_info": {
   "codemirror_mode": {
    "name": "ipython",
    "version": 3
   },
   "file_extension": ".py",
   "mimetype": "text/x-python",
   "name": "python",
   "nbconvert_exporter": "python",
   "pygments_lexer": "ipython3",
   "version": "3.8.12"
  }
 },
 "nbformat": 4,
 "nbformat_minor": 5
}
